{
  "cells": [
    {
      "cell_type": "code",
      "execution_count": 2,
      "metadata": {
        "id": "hwejjHw9DGXT"
      },
      "outputs": [],
      "source": [
        "NAME = \"Md. Faisal Iftekhar\"\n",
        "ID = \"22299116\"\n",
        "Section = \"16\"\n",
        "SET = \"A\""
      ]
    },
    {
      "cell_type": "code",
      "execution_count": 3,
      "metadata": {
        "id": "e-u3P5UZLQyE"
      },
      "outputs": [],
      "source": [
        "import matplotlib.pyplot as plt\n",
        "import numpy as np\n",
        "from numpy.polynomial import Polynomial"
      ]
    },
    {
      "cell_type": "markdown",
      "metadata": {
        "id": "_osNnbrRvZlS"
      },
      "source": [
        "## **Question 01** [2+2 Marks]\n",
        "\n",
        "a) Represent the following polynomial using Polynomial library. Print the Polynomial equation.\n",
        "   $f(x) = -3(6x-1)^2 + 3$\n",
        "\n",
        "b) Plot the polynomial for the range $-8 \\leq x \\leq 8$"
      ]
    },
    {
      "cell_type": "code",
      "execution_count": 31,
      "metadata": {
        "colab": {
          "base_uri": "https://localhost:8080/"
        },
        "id": "9-uJM6FJDNqG",
        "outputId": "4d7b96d4-c83b-4fe1-b5b7-aa84be06d30c"
      },
      "outputs": [
        {
          "name": "stdout",
          "output_type": "stream",
          "text": [
            "0.0 + 36.0 x - 108.0 x**2\n"
          ]
        }
      ],
      "source": [
        "# 1 a\n",
        "\n",
        "coeff = [0, 36, -108]\n",
        "p = Polynomial(coeff)\n",
        "print(p)"
      ]
    },
    {
      "cell_type": "code",
      "execution_count": 30,
      "metadata": {
        "colab": {
          "base_uri": "https://localhost:8080/",
          "height": 449
        },
        "id": "1SuFVAB1DO6W",
        "outputId": "b494e29f-459d-4dba-f44d-7edd85dfdcfd"
      },
      "outputs": [
        {
          "data": {
            "image/png": "[encoded data removed]",
            "text/plain": [
              "<Figure size 640x480 with 1 Axes>"
            ]
          },
          "metadata": {},
          "output_type": "display_data"
        }
      ],
      "source": [
        "# 1 b\n",
        "\n",
        "x_val = np.linspace(-8, 8)\n",
        "y_val = p(x_val)\n",
        "\n",
        "plt.plot(x_val, y_val)\n",
        "plt.xlabel('x')\n",
        "plt.ylabel('f(x)')\n",
        "plt.show()"
      ]
    },
    {
      "cell_type": "markdown",
      "metadata": {
        "id": "H9ybnys1vO7S"
      },
      "source": [
        "## **Question 02** [2+2 marks]\n",
        "\n",
        "a) In Vandermonde matrix, the equation can be written as $\\mathbf{X}a = y$,\n",
        "\n",
        "where $\\mathbf{X} = \\begin{bmatrix}\n",
        "x_0^0 & x_0^1 & x_0^2 & \\cdots & x_0^n \\\\\n",
        "x_1^0 & x_1^1 & x_1^2 & \\cdots & x_1^n \\\\\n",
        "\\vdots & \\vdots & \\vdots & \\ddots & \\vdots \\\\\n",
        "x_{n-1}^0 & x_{n-1}^1 & x_{n-1}^2 & \\cdots & x_{n-1}^n \\\\\n",
        "x_n^0 & x_n^1 & x_n^2 & \\cdots & x_n^n\n",
        "\\end{bmatrix}$\n",
        "\n",
        "Now you have to implement the following matrix:\n",
        "\n",
        "$\\mathbf{X}_{new} = \\begin{bmatrix}\n",
        "x_n^0 & x_n^1 & x_n^2 & \\cdots & x_n^n \\\\\n",
        "x_{n-1}^0 & x_{n-1}^1 & x_{n-1}^2 & \\cdots & x_{n-1}^n \\\\\n",
        "\\vdots & \\vdots & \\vdots & \\ddots & \\vdots \\\\\n",
        "x_2^0 & x_1^1 & x_1^2 & \\cdots & x_2^n \\\\\n",
        "x_1^0 & x_1^1 & x_1^2 & \\cdots & x_1^n\n",
        "\\end{bmatrix}$\n",
        "\n",
        "Write a function that takes data_x as parameter and populates the $\\mathbf{X}_{new}$ matrix.\n",
        "\n",
        "b) Given a function $f(x) = x^3 + 5x$.\n",
        "Find out the value of $\\frac{f'(x)+f''(x)}{f(x)}$ at $x = 2$?"
      ]
    },
    {
      "cell_type": "code",
      "execution_count": 29,
      "metadata": {
        "colab": {
          "base_uri": "https://localhost:8080/"
        },
        "id": "pCZJImGrGaDc",
        "outputId": "35925ead-d58c-4750-ea57-0edb8b2ee8a7"
      },
      "outputs": [
        {
          "name": "stdout",
          "output_type": "stream",
          "text": [
            "[[  1.   5.  25. 125. 625.]\n",
            " [  1.   4.  16.  64. 256.]\n",
            " [  1.   3.   9.  27.  81.]\n",
            " [  1.   2.   4.   8.  16.]\n",
            " [  1.   1.   1.   1.   1.]]\n"
          ]
        }
      ],
      "source": [
        "# 2 a\n",
        "\n",
        "def vandermonde(data_x, data_y):\n",
        "  n_nodes = len(data_x)\n",
        "  X = np.zeros((n_nodes, n_nodes))\n",
        "\n",
        "  for i in range(len(data_x)):\n",
        "    for j in range(len(data_x)):\n",
        "      X[i][j] = data_x[len(data_x) - i -1] ** j\n",
        "\n",
        "  return(X)\n",
        "\n",
        "data_x=np.array([1, 2, 3, 4, 5])\n",
        "data_y=np.array([1, 2, 3, 4, 5])\n",
        "v = vandermonde(data_x, data_y)\n",
        "print(v)"
      ]
    },
    {
      "cell_type": "code",
      "execution_count": 28,
      "metadata": {
        "colab": {
          "base_uri": "https://localhost:8080/"
        },
        "id": "Dfc5S7jPDYeu",
        "outputId": "b778e001-6d2b-4f73-b1db-df501b5921a0"
      },
      "outputs": [
        {
          "name": "stdout",
          "output_type": "stream",
          "text": [
            "1.6111111111111112\n"
          ]
        }
      ],
      "source": [
        "# 2 b\n",
        "\n",
        "coeff_2 = [0, 5, 0, 1]\n",
        "p_2 = Polynomial(coeff_2)\n",
        "\n",
        "first = p_2.deriv(1)\n",
        "second = p_2.deriv(2)\n",
        "\n",
        "x_at2 = (first(2)+second(2))/p_2(2)\n",
        "print(x_at2)"
      ]
    },
    {
      "cell_type": "markdown",
      "metadata": {
        "id": "K7z6oV0YwpoZ"
      },
      "source": [
        "## **Question 03** [2 + 2 Marks]\n",
        "\n",
        "A physicist is studying the velocity of an object moving along a straight line. The velocity of the object is recorded at specific times, and the physicist wants to use numerical methods to estimate the velocity as a function of time. The recorded values are given below:\n",
        "\n",
        "<div style=\"font-size: 16px;\">\n",
        "\n",
        "| Time t (seconds) &nbsp;&nbsp;&nbsp; | Velocity v(t) (m/s) &nbsp;&nbsp;&nbsp; |\n",
        "|:-----------------------------------:|:--------------------------------------:|\n",
        "| &nbsp;&nbsp;&nbsp; 1 &nbsp;&nbsp;&nbsp; | &nbsp;&nbsp;&nbsp; 0 &nbsp;&nbsp;&nbsp; |\n",
        "| &nbsp;&nbsp;&nbsp; 4 &nbsp;&nbsp;&nbsp; | &nbsp;&nbsp;&nbsp; 15 &nbsp;&nbsp;&nbsp; |\n",
        "| &nbsp;&nbsp;&nbsp; 6 &nbsp;&nbsp;&nbsp; | &nbsp;&nbsp;&nbsp; 30 &nbsp;&nbsp;&nbsp; |\n",
        "\n",
        "</div>\n",
        "\n",
        "You already know how to find out the interpolating polynomial using Lagrange Interpolation Method. Now, as you are a computer scientist you invented a new interpolation method named Dagrange Interpolation.\n",
        "\n",
        "General form of an n degree dagrange polynomial:\n",
        "$$p_n(x) = \\sum_{k=0}^n f(x_k)\\frac{n}{d_k(x)}$$\n",
        "\n",
        "where\n",
        "$$d_k(x) = n\\prod_{j=0, j\\neq k}^n \\frac{x_k-x_j}{x-x_j}$$\n",
        "\n",
        "a) Evaluate the Dagrange bases $[d_0(x), d_1(x), d_2(x)]$ of the polynomial that goes through the above data points where time = 3s.\n",
        "\n",
        "b) Calculate the velocity from Dagrange Interpolating polynomial at time = 5s."
      ]
    },
    {
      "cell_type": "code",
      "execution_count": 25,
      "metadata": {
        "id": "VjgL7a_pwN7z"
      },
      "outputs": [],
      "source": [
        "def dagrange_bases(k, x, data_x):\n",
        "\n",
        "  n = len(data_x) - 1\n",
        "  product = 1.0\n",
        "\n",
        "  for j in range(len(data_x)):\n",
        "    if j != k:\n",
        "      product *= (data_x[k] - data_x[j])/(x - data_x[j])\n",
        "            \n",
        "  d_k = n * product\n",
        "  return d_k\n",
        "\n",
        "def dagrange_polynomial(data_x, data_y, x):\n",
        "\n",
        "  n = len(data_x) - 1\n",
        "  result = 0\n",
        "  bases_arr = []\n",
        "    \n",
        "  for k in range(len(data_x)):\n",
        "    d_k = dagrange_bases(k, x, data_x)\n",
        "    bases_arr.append(d_k)\n",
        "    result += data_y[k] * n / d_k\n",
        "\n",
        "  return result, bases_arr\n",
        "\n",
        "data_x = np.array([1, 4, 6])  # 3 points = degree 2\n",
        "data_y = np.array([0, 15, 30])"
      ]
    },
    {
      "cell_type": "code",
      "execution_count": 26,
      "metadata": {
        "colab": {
          "base_uri": "https://localhost:8080/"
        },
        "id": "bxRAKRFrPQ39",
        "outputId": "c10bfabb-5f95-4f13-fbf9-bc60e53227b0"
      },
      "outputs": [
        {
          "name": "stdout",
          "output_type": "stream",
          "text": [
            "Dagrange bases at x = 3: [10.0, 2.0, -10.0]\n"
          ]
        }
      ],
      "source": [
        "# 3 a\n",
        "\n",
        "x_test = 3\n",
        "result_3, bases_3 = dagrange_polynomial(data_x, data_y, x_test)\n",
        "print(f\"Dagrange bases at x = 3: {bases_3}\")"
      ]
    },
    {
      "cell_type": "code",
      "execution_count": 27,
      "metadata": {
        "colab": {
          "base_uri": "https://localhost:8080/"
        },
        "id": "_94fJ08EDaWW",
        "outputId": "370c76f7-b259-4003-ebef-b6782e381465"
      },
      "outputs": [
        {
          "name": "stdout",
          "output_type": "stream",
          "text": [
            "Velocity at x = 5: 22.0\n"
          ]
        }
      ],
      "source": [
        "# 3 b\n",
        "\n",
        "x_interpolate = 5\n",
        "result_5, bases_5 = dagrange_polynomial(data_x, data_y, x_interpolate)\n",
        "print(f\"Velocity at x = 5: {result_5}\")"
      ]
    }
  ],
  "metadata": {
    "colab": {
      "provenance": []
    },
    "kernelspec": {
      "display_name": "base",
      "language": "python",
      "name": "python3"
    },
    "language_info": {
      "codemirror_mode": {
        "name": "ipython",
        "version": 3
      },
      "file_extension": ".py",
      "mimetype": "text/x-python",
      "name": "python",
      "nbconvert_exporter": "python",
      "pygments_lexer": "ipython3",
      "version": "3.12.3"
    }
  },
  "nbformat": 4,
  "nbformat_minor": 0
}
