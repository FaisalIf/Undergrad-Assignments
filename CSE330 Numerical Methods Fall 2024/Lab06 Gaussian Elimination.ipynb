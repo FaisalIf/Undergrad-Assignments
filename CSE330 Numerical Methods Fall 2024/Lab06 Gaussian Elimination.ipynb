{
  "cells": [
    {
      "cell_type": "code",
      "execution_count": 2,
      "metadata": {
        "id": "yRMG6NyDgxwa"
      },
      "outputs": [],
      "source": [
        "NAME = \"Md. Faisal Iftekhar\"\n",
        "ID = \"22299116\"\n",
        "SECTION = \"16\""
      ]
    },
    {
      "cell_type": "markdown",
      "metadata": {
        "id": "cbYDwRgN3vcq"
      },
      "source": [
        "# Part 1: Solving a linear system using inverse matrix - 2 Marks\n",
        "\n",
        "We have a linear system\n",
        "\n",
        "\\begin{align}\n",
        "&a_{11} x_1 + a_{12} x_2 +  \\cdots  + a_{1n} x_n = b_1\\\\\n",
        "&a_{21} x_1 + a_{22} x_2 +  \\cdots + a_{2n} x_n = b_2\\\\\n",
        "&\\cdots\\\\\n",
        "&a_{n1} x_1 + a_{n2} x_2 +  \\cdots + a_{nn} x_n = b_n\\\\\n",
        "\\end{align}\n",
        "\n",
        "It is convenient to express this system in the\n",
        "matrix form\n",
        "\n",
        "\\begin{align}\n",
        "Ax = b\n",
        "\\end{align}\n",
        "\n",
        "where $A$ is an $n \\times n$ square matrix with elements $a_{ij}$, and $x$, $b$ are $n \\times 1$ vectors.\n",
        "\n",
        "We have to keep in mind that this system will have a unique solution iff $A$ is non-singular, given by $x = A^{-1}b.$"
      ]
    },
    {
      "cell_type": "code",
      "execution_count": 3,
      "metadata": {
        "id": "aQX8PNoJ39Ak"
      },
      "outputs": [],
      "source": [
        "import matplotlib.pyplot as plt\n",
        "import numpy as np\n",
        "import sys"
      ]
    },
    {
      "cell_type": "code",
      "execution_count": 13,
      "metadata": {
        "id": "liidjMKS-DBM"
      },
      "outputs": [],
      "source": [
        "def get_result_by_inverse_matrix(A, b):\n",
        "  if np.linalg.det(A):\n",
        "    return np.dot(np.linalg.inv(A),b)\n",
        "  return \"singular matrix\""
      ]
    },
    {
      "cell_type": "code",
      "execution_count": 14,
      "metadata": {
        "id": "Ege-eIAp-CTV"
      },
      "outputs": [],
      "source": [
        "# Test case for the get_result_by_inverse_matrix(A, b) function.\n",
        "\n",
        "data_A = np.array([[1, 2, 1], [1, -2, 2], [2, 12, -2]])\n",
        "data_b = np.array([0,4,4])\n",
        "\n",
        "test = get_result_by_inverse_matrix(data_A, data_b)\n",
        "results = [11, -2.5, -6]\n",
        "\n",
        "np.testing.assert_array_equal(test, results)"
      ]
    },
    {
      "cell_type": "markdown",
      "metadata": {
        "id": "eyAJANDCC08f"
      },
      "source": [
        "# Part 2: Gaussian elimination - 2 Marks\n",
        "\n",
        "Gaussian elimination uses elementary row operations to transform the system to upper triangular form $Ux = y$.\n",
        "\n",
        "Elementary row operations include swapping rows and adding multiples of one rowto another.\n",
        "They won’t change the solution $x$, but will change the matrix $A$ and the right-hand side $b$.\n",
        "\n",
        "The upper triangular matrix, $𝑈$, is defined as\n",
        "\n",
        "\\begin{bmatrix}\n",
        "u_{11} & u_{12} & \\cdots & u_{1n}\\\\\n",
        "0 & u_{22} & \\cdots & u_{2n}\\\\\n",
        "\\vdots & \\vdots & \\ddots & \\vdots\\\\\n",
        "0 & \\cdots & 0 & u_{nn}\\\\\n",
        "\\end{bmatrix}\n"
      ]
    },
    {
      "cell_type": "markdown",
      "metadata": {
        "id": "fZXuDaxsPhJm"
      },
      "source": [
        "**Algorithm of Gaussian elimination**\n",
        "\n",
        "Let $A^{(1)}=A$ and $b^{(1)}=b$. Then for each k from 1 to $n-1$, compute a new matrix $A^{(k+1)}$ and right-hand side $b^{(k+1)}$ by the following procedure:\n",
        "\n",
        "\n",
        "1.   Define the row multipliers\n",
        "\n",
        "\\begin{align}\n",
        "m_{ij} = \\frac{a_{ik}^{(k)}}{a_{kk}^{(k)}}, i=k+1,\\cdot \\cdot \\cdot,n.\n",
        "\\end{align}\n",
        "2.   Use these to remove the unknown $x_k$ from equations $k + 1$ to $n$, leaving\n",
        "\n",
        "\\begin{align}\n",
        "a_{ij}^{(k+1)}=a_{ij}^{(k)}-m_{ik}a_{kj}^{(k)}, b_{i}^{(k+1)}=b_{i}^{(k)}-m_{ik}b_{k}^{(k)}, i,j=k+1,\\cdot \\cdot \\cdot, n.\n",
        "\\end{align}\n",
        "\n",
        "It is helpful to combine these matrices to form an Augmented matrix (matrix $𝑏$ is the fourth column). We will perform this row operations on the Augmented matrix. It takes care of both $𝐴$ and $𝑏$ matrixes at the same time.\n",
        "\n",
        "After generating the upper triangular matrix, we have to apply **backward substitution method**.\n",
        "For any $n \\times n$ upper triangular system, $Ux = b$, the solution is:\n",
        "\n",
        "\\begin{align}\n",
        "x_j = \\frac{b_j-\\sum_{k=j+1}^{n}u_{jk}x_k}{u_{jj}}, j = n, n-1, \\cdot\\cdot\\cdot, 1.\n",
        "\\end{align}\n",
        "\n",
        "Here we assumed that $det𝑈≠0$.\n"
      ]
    },
    {
      "cell_type": "code",
      "execution_count": 15,
      "metadata": {
        "id": "r0-WCKM1OZKC"
      },
      "outputs": [],
      "source": [
        "def get_result_gaussian_elimination(n, A):\n",
        "\n",
        "  for i in range(n):\n",
        "    if A[i][i]==0:              #row swap to handle pivoting issues\n",
        "      for j in range(i+1, n):\n",
        "        if A[j][i]:\n",
        "          A[[i,j]]= A[[j,i]]\n",
        "          break\n",
        "\n",
        "  x = np.zeros(n)\n",
        "  for c in range(n):\n",
        "    for r in range(c+1, n):\n",
        "      mul = A[r][c]/A[c][c]\n",
        "      A[r]= A[r]-mul*A[c]\n",
        "\n",
        "  for i in range(n-1, -1, -1):\n",
        "    sum = 0\n",
        "    for j in range(i+1, n):\n",
        "        sum += A[i][j] * x[j]\n",
        "    x[i] = (A[i][n] - sum) / A[i][i]\n",
        "\n",
        "  return x"
      ]
    },
    {
      "cell_type": "code",
      "execution_count": 16,
      "metadata": {
        "colab": {
          "base_uri": "https://localhost:8080/"
        },
        "id": "IjJuvkTBUifb",
        "outputId": "8b1b8059-1915-43f2-bbde-c84092a649dd"
      },
      "outputs": [],
      "source": [
        "# Test case for the get_result_gaussian_elimination(n, A) function.\n",
        "\n",
        "data_n = 3\n",
        "data_A = np.array([[1, 2, 1, 0], [1, -2, 2, 4], [2, 12, -2, 4]])\n",
        "\n",
        "test = get_result_gaussian_elimination(data_n, data_A)\n",
        "results = [11, -2.5, -6]\n",
        "\n",
        "np.testing.assert_array_equal(test, results)"
      ]
    },
    {
      "cell_type": "markdown",
      "metadata": {
        "id": "n0dQsvBA1Wfr"
      },
      "source": [
        "# Daily Evaluation - 4 Marks"
      ]
    },
    {
      "cell_type": "markdown",
      "metadata": {
        "id": "0zWhHEX3ZQAt"
      },
      "source": [
        "### Task 1\n",
        "\n",
        "\n",
        "Given the following **2x3 augmented matrix A:**\n",
        "\n",
        "\n",
        "\\begin{bmatrix}\n",
        "3 & 6 &| & -9\\\\\n",
        "1 & 3 &| & 4\\\\\n",
        "\\end{bmatrix}\n",
        "\n",
        "\n",
        "Write a function that performs a single step of Gaussian elimination to modify the **second row (row 1)** using the **first row (row 0)**. Specifically, the function should:\n",
        "1. Calculate the multiplier needed to make the first element of the second row zero.\n",
        "2. Subtract the necessary multiple of the first row from the second row.\n",
        "\n",
        "\n",
        "Print the result!\n",
        "\n",
        "\n",
        "### Task 2\n",
        "\n",
        "\n",
        "Given the following **3x3** **matrix A**:\n",
        "\n",
        "\n",
        "A:\n",
        "\\begin{bmatrix}\n",
        "2 & -1 & 0\\\\\n",
        "-1 & 2 & -1\\\\\n",
        "0 & -1 & 2\\\\\n",
        "\\end{bmatrix}\n",
        "\n",
        "\n",
        "(a) Calculate the **inverse of matrix A** using the matrix inversion method.\n",
        "\n",
        "\n",
        "(b) Verify your result by showing that **$A.A^{-1} = I$** where I is the Identity Matrix. Print $I$!\n",
        "\n",
        "\n",
        "$I$:\n",
        "\\begin{bmatrix}\n",
        "1 & 0 & 0\\\\\n",
        "0 & 1 & 0\\\\\n",
        "0 & 0 & 1\\\\\n",
        "\\end{bmatrix}\n"
      ]
    },
    {
      "cell_type": "code",
      "execution_count": 17,
      "metadata": {
        "colab": {
          "base_uri": "https://localhost:8080/"
        },
        "id": "ypClrvy5dmVu",
        "outputId": "930e48c8-65c5-4a28-b327-04e66d4cf185"
      },
      "outputs": [
        {
          "name": "stdout",
          "output_type": "stream",
          "text": [
            "[[ 3  6 -9]\n",
            " [ 0  1  7]]\n"
          ]
        }
      ],
      "source": [
        "# Task 1\n",
        "\n",
        "def single_step_gaussian_elimination(A):\n",
        "  multiplier = A[1][0] / A[0][0]\n",
        "  A[1] = A[1] - multiplier * A[0]\n",
        "  return A\n",
        "\n",
        "A = np.array([[3, 6, -9], [1, 3, 4]])\n",
        "result = single_step_gaussian_elimination(A)\n",
        "print(result)"
      ]
    },
    {
      "cell_type": "code",
      "execution_count": 18,
      "metadata": {
        "colab": {
          "base_uri": "https://localhost:8080/"
        },
        "id": "MPvJ0PghbCt-",
        "outputId": "10008258-a389-4fb6-8251-314f8ef4da07"
      },
      "outputs": [
        {
          "name": "stdout",
          "output_type": "stream",
          "text": [
            "[[1. 0. 0.]\n",
            " [0. 1. 0.]\n",
            " [0. 0. 1.]]\n"
          ]
        }
      ],
      "source": [
        "# Task 2\n",
        "\n",
        "data_A = np.array([[1, 0, 0], [0, 1, 0], [0, 0, 1]])\n",
        "inv_a = np.linalg.pinv(data_A)\n",
        "x = np.dot(data_A, inv_a)\n",
        "\n",
        "print(inv_a)\n",
        "\n",
        "results = [[1, 0, 0], [0, 1, 0], [0, 0, 1]]\n",
        "\n",
        "np.testing.assert_array_equal(x, results)"
      ]
    }
  ],
  "metadata": {
    "colab": {
      "provenance": []
    },
    "kernelspec": {
      "display_name": "base",
      "language": "python",
      "name": "python3"
    },
    "language_info": {
      "codemirror_mode": {
        "name": "ipython",
        "version": 3
      },
      "file_extension": ".py",
      "mimetype": "text/x-python",
      "name": "python",
      "nbconvert_exporter": "python",
      "pygments_lexer": "ipython3",
      "version": "3.12.3"
    }
  },
  "nbformat": 4,
  "nbformat_minor": 0
}
