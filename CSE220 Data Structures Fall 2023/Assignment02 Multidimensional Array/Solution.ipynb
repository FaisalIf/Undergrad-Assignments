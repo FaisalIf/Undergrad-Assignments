{
  "cells": [
    {
      "cell_type": "markdown",
      "metadata": {
        "id": "guHv8JeKlsmS"
      },
      "source": [
        "**Instructions to Follow (Failing to follow these will result mark penalties).**\n",
        "\n",
        "\n",
        "1.   You can **NOT** use any built-in function except len()\n",
        "2.   You can use the **shape** tuple of numpy arrays\n",
        "2.   You can **NOT** use any other python collections (e.g: tuple, dictionaries etc.) except array.\n",
        "3. We will initialize a new array using numpy library. We have to mention the fixed size during initialization. There might be two approach.\n",
        "\n",
        "  i. arr = np.zeros((10), dtype = int) #Initializing an array length 10 with values 0\n",
        "\n",
        "  ii. arr = np.array([10, 20, 30, 40]) #Initializing an array length 4 with the values.\n",
        "4. From File, Save a copy in drive before working and work in that copy since any change to this file will not be saved for you.\n",
        "\n",
        "\n",
        "\n",
        "\n",
        "\n"
      ]
    },
    {
      "cell_type": "code",
      "execution_count": 1,
      "metadata": {
        "colab": {
          "base_uri": "https://localhost:8080/"
        },
        "id": "M3LWSKJTl0eP",
        "outputId": "14b35bee-9205-4b83-a955-d8f2c039983c"
      },
      "outputs": [
        {
          "name": "stdout",
          "output_type": "stream",
          "text": [
            "Requirement already satisfied: fhm-unittest in c:\\users\\downj\\appdata\\local\\programs\\python\\python311\\lib\\site-packages (1.0.1)\n",
            "Requirement already satisfied: fuzzywuzzy in c:\\users\\downj\\appdata\\local\\programs\\python\\python311\\lib\\site-packages (0.18.0)\n"
          ]
        },
        {
          "name": "stderr",
          "output_type": "stream",
          "text": [
            "c:\\Users\\downj\\AppData\\Local\\Programs\\Python\\Python311\\Lib\\site-packages\\fuzzywuzzy\\fuzz.py:11: UserWarning: Using slow pure-python SequenceMatcher. Install python-Levenshtein to remove this warning\n",
            "  warnings.warn('Using slow pure-python SequenceMatcher. Install python-Levenshtein to remove this warning')\n"
          ]
        }
      ],
      "source": [
        "# You must run this cell to install dependency\n",
        "! pip3 install fhm-unittest\n",
        "! pip3 install fuzzywuzzy\n",
        "import fhm_unittest as unittest\n",
        "import numpy as np"
      ]
    },
    {
      "cell_type": "code",
      "execution_count": 2,
      "metadata": {
        "id": "srOjdw7El2db"
      },
      "outputs": [],
      "source": [
        "#You must run this cell to print matrix and for the driver code to work\n",
        "def print_matrix(m):\n",
        "  row,col = m.shape\n",
        "  for i in range(row):\n",
        "    c = 1\n",
        "    print('|', end='')\n",
        "    for j in range(col):\n",
        "      c += 1\n",
        "      if(len(str(m[i][j])) == 1):\n",
        "        print(' ',m[i][j], end = '  |')\n",
        "        c += 6\n",
        "      else:\n",
        "        print(' ',m[i][j], end = ' |')\n",
        "        c += 6\n",
        "    print()\n",
        "    print('-'*(c-col))\n"
      ]
    },
    {
      "cell_type": "markdown",
      "metadata": {
        "id": "ALwE-G26luWL"
      },
      "source": [
        "#Zigzag Walk"
      ]
    },
    {
      "cell_type": "code",
      "execution_count": 11,
      "metadata": {
        "colab": {
          "base_uri": "https://localhost:8080/"
        },
        "id": "OccSdn4hliXc",
        "outputId": "99c7b879-0f9a-4b5e-e670-c8565a6d8dab"
      },
      "outputs": [
        {
          "name": "stdout",
          "output_type": "stream",
          "text": [
            "|  3  |  8  |  4  |  6  |  1  |\n",
            "-------------------------------\n",
            "|  7  |  2  |  1  |  9  |  3  |\n",
            "-------------------------------\n",
            "|  9  |  0  |  7  |  5  |  8  |\n",
            "-------------------------------\n",
            "|  2  |  1  |  3  |  4  |  0  |\n",
            "-------------------------------\n",
            "|  1  |  4  |  2  |  8  |  6  |\n",
            "-------------------------------\n",
            "Walking Sequence:\n",
            "3 9 1 \n",
            "1 2 \n",
            "4 7 2 \n",
            "4 9 \n",
            "1 8 6 \n",
            "################\n",
            "|  3  |  8  |  4  |  6  |  1  |\n",
            "-------------------------------\n",
            "|  7  |  2  |  1  |  9  |  3  |\n",
            "-------------------------------\n",
            "|  9  |  0  |  7  |  5  |  8  |\n",
            "-------------------------------\n",
            "|  2  |  1  |  3  |  4  |  0  |\n",
            "-------------------------------\n",
            "Walking Sequence:\n",
            "3 9 \n",
            "1 2 \n",
            "4 7 \n",
            "4 9 \n",
            "1 8 \n"
          ]
        }
      ],
      "source": [
        "def walk_zigzag(floor):\n",
        "\n",
        "  row, col = floor.shape\n",
        "\n",
        "  if row % 2 != 0:\n",
        "    for i in range(col):\n",
        "      if i % 2 == 0:\n",
        "        for j in range(0, row, 2):\n",
        "          print(floor[j][i], end = \" \")\n",
        "      else:\n",
        "        for j in range(row-2, 0, -2):\n",
        "          print(floor[j][i], end = \" \")\n",
        "      print()\n",
        "\n",
        "  else:\n",
        "    for i in range(col):\n",
        "      if i % 2 == 0:\n",
        "        for j in range(0, row, 2):\n",
        "          print(floor[j][i], end = \" \")\n",
        "      else:\n",
        "        for j in range(row-1, 0, -2):\n",
        "          print(floor[j][i], end = \" \")\n",
        "      print()\n",
        "\n",
        "\n",
        "floor = np.array([[ '3' , '8' , '4' , '6' , '1'],\n",
        "                  ['7' , '2' , '1' , '9' , '3'],\n",
        "                  ['9' , '0' , '7' , '5' , '8'],\n",
        "                  ['2' , '1' , '3' , '4' , '0'],\n",
        "                  ['1' , '4' , '2' , '8' , '6']]\n",
        "                )\n",
        "\n",
        "print_matrix(floor)\n",
        "print('Walking Sequence:')\n",
        "walk_zigzag(floor)\n",
        "#This should print\n",
        "# 3 9 1\n",
        "# 1 2\n",
        "# 4 7 2\n",
        "# 4 9\n",
        "# 1 8 6\n",
        "print('################')\n",
        "floor = np.array([[ '3' , '8' , '4' , '6' , '1'],\n",
        "                  ['7' , '2' , '1' , '9' , '3'],\n",
        "                  ['9' , '0' , '7' , '5' , '8'],\n",
        "                  ['2' , '1' , '3' , '4' , '0']]\n",
        "                )\n",
        "\n",
        "print_matrix(floor)\n",
        "print('Walking Sequence:')\n",
        "walk_zigzag(floor)\n",
        "#This should print\n",
        "# 3 9\n",
        "# 1 2\n",
        "# 4 7\n",
        "# 4 9\n",
        "# 1 8"
      ]
    },
    {
      "cell_type": "markdown",
      "metadata": {
        "id": "Te694MO5nAJ8"
      },
      "source": [
        "#Wall Up Trost District"
      ]
    },
    {
      "cell_type": "code",
      "execution_count": 14,
      "metadata": {
        "colab": {
          "base_uri": "https://localhost:8080/"
        },
        "id": "ynl41ICWma8W",
        "outputId": "572b239c-b578-4205-9535-34069e9d24f3"
      },
      "outputs": [
        {
          "name": "stdout",
          "output_type": "stream",
          "text": [
            "|  2  |  3  |  4  |\n",
            "-------------------\n",
            "|  3  |  4  |  6  |\n",
            "-------------------\n",
            "|  2  |  1  |  4  |\n",
            "-------------------\n",
            "|  8  |  8  |  8  |  8  |  8  |\n",
            "-------------------------------\n",
            "|  8  |  2  |  3  |  4  |  8  |\n",
            "-------------------------------\n",
            "|  8  |  3  |  4  |  6  |  8  |\n",
            "-------------------------------\n",
            "|  8  |  2  |  1  |  4  |  8  |\n",
            "-------------------------------\n",
            "|  8  |  8  |  8  |  8  |  8  |\n",
            "-------------------------------\n",
            "################\n",
            "|  2  |  3  |  4  |  1  |\n",
            "-------------------------\n",
            "|  3  |  4  |  6  |  5  |\n",
            "-------------------------\n",
            "|  2  |  1  |  4  |  7  |\n",
            "-------------------------\n",
            "|  8  |  8  |  8  |  8  |  8  |  8  |  8  |  8  |\n",
            "-------------------------------------------------\n",
            "|  8  |  8  |  8  |  8  |  8  |  8  |  8  |  8  |\n",
            "-------------------------------------------------\n",
            "|  8  |  8  |  2  |  3  |  4  |  1  |  8  |  8  |\n",
            "-------------------------------------------------\n",
            "|  8  |  8  |  3  |  4  |  6  |  5  |  8  |  8  |\n",
            "-------------------------------------------------\n",
            "|  8  |  8  |  2  |  1  |  4  |  7  |  8  |  8  |\n",
            "-------------------------------------------------\n",
            "|  8  |  8  |  8  |  8  |  8  |  8  |  8  |  8  |\n",
            "-------------------------------------------------\n",
            "|  8  |  8  |  8  |  8  |  8  |  8  |  8  |  8  |\n",
            "-------------------------------------------------\n"
          ]
        }
      ],
      "source": [
        "def create_fence(district, depth):\n",
        "    \n",
        "  district_row, district_col = district.shape\n",
        "  row, col = district_row + 2*depth, district_col + 2*depth\n",
        "\n",
        "  new_dis = np.array([[8]*col]*row)\n",
        "\n",
        "  for i in range(district_row):\n",
        "    for j in range(district_col):\n",
        "      new_dis[i+depth][j+depth] = district[i][j]\n",
        "\n",
        "  return new_dis\n",
        "\n",
        "\n",
        "depth = 1\n",
        "district = np.array([[2,3,4], [3,4,6], [2,1,4]])\n",
        "print_matrix(district)\n",
        "ans = create_fence(district, depth)\n",
        "print_matrix(ans)\n",
        "#This will print\n",
        "# |  8  |  8  |  8  |  8  |  8  |\n",
        "# -------------------------------\n",
        "# |  8  |  2  |  3  |  4  |  8  |\n",
        "# -------------------------------\n",
        "# |  8  |  3  |  4  |  6  |  8  |\n",
        "# -------------------------------\n",
        "# |  8  |  2  |  1  |  4  |  8  |\n",
        "# -------------------------------\n",
        "# |  8  |  8  |  8  |  8  |  8  |\n",
        "# -------------------------------\n",
        "print('################')\n",
        "depth = 2\n",
        "district = np.array([\n",
        "                 [2,3,4,1],\n",
        "                 [3,4,6,5],\n",
        "                 [2,1,4,7]\n",
        "                ])\n",
        "print_matrix(district)\n",
        "ans = create_fence(district, depth)\n",
        "print_matrix(ans)\n"
      ]
    },
    {
      "cell_type": "markdown",
      "metadata": {
        "id": "-l1SdQX1odKf"
      },
      "source": [
        "#Crows vs Cats"
      ]
    },
    {
      "cell_type": "code",
      "execution_count": 16,
      "metadata": {
        "colab": {
          "base_uri": "https://localhost:8080/"
        },
        "id": "8Tj2Smc3nvsh",
        "outputId": "b6b4265c-a8ef-4b14-ecff-842028b9524b"
      },
      "outputs": [
        {
          "name": "stdout",
          "output_type": "stream",
          "text": [
            "|  1  |  2  |  9  |  7  |\n",
            "-------------------------\n",
            "|  4  |  5  |  1  |  8  |\n",
            "-------------------------\n",
            "|  3  |  6  |  2  |  7  |\n",
            "-------------------------\n",
            "|  2  |  8  |  6  |  3  |\n",
            "-------------------------\n",
            "Strength Difference Array is :  [-2  6  5 -5  0  1]\n",
            "Accepted\n"
          ]
        }
      ],
      "source": [
        "def strength_difference(clubroom):\n",
        "\n",
        "  row, col = clubroom.shape\n",
        "\n",
        "  players = (row**2 - row)//2\n",
        "  strength_diff = np.zeros(players, dtype = int)\n",
        "\n",
        "  c = 0\n",
        "  for i in range(row):\n",
        "    for j in range(col):\n",
        "\n",
        "      if i == j:\n",
        "        for k in range(1+j, col):\n",
        "          strength_diff[c] = clubroom[i][k] - clubroom[k][i]\n",
        "          c+=1\n",
        "\n",
        "  return strength_diff\n",
        "\n",
        "\n",
        "clubroom = np.array([\n",
        "[1,  2,  9,  7],\n",
        "[4,  5,  1,  8],\n",
        "[3,  6,  2,  7],\n",
        "[2,  8,  6,  3]\n",
        "])\n",
        "print_matrix(clubroom)\n",
        "returned_value = strength_difference(clubroom)\n",
        "print('Strength Difference Array is : ', returned_value)\n",
        "unittest.output_test(returned_value, np.array([-2, 6, 5, -5, 0, 1]))"
      ]
    },
    {
      "cell_type": "markdown",
      "metadata": {
        "id": "CcjR0GgUpW8A"
      },
      "source": [
        "#ATM's Triangle"
      ]
    },
    {
      "cell_type": "code",
      "execution_count": 17,
      "metadata": {
        "colab": {
          "base_uri": "https://localhost:8080/"
        },
        "id": "br9aLK_5pETy",
        "outputId": "110a1bc4-daef-4547-f9f7-a8f3715eead8"
      },
      "outputs": [
        {
          "name": "stdout",
          "output_type": "stream",
          "text": [
            "1  \n",
            "2  2  \n",
            "3  4  3  \n",
            "4  7  10  4  \n",
            "5  11  21  25  5  \n"
          ]
        }
      ],
      "source": [
        "def atm_triangle(n):\n",
        "\n",
        "  atm = np.zeros((n, n), dtype = int)\n",
        "\n",
        "  for i in range(n):\n",
        "    for j in range(n):\n",
        "\n",
        "      if j == 0:\n",
        "        atm[i][j] = i+1\n",
        "\n",
        "      elif i == j:\n",
        "        atm[i][j] = i+1\n",
        "\n",
        "      elif j > i:\n",
        "        pass\n",
        "\n",
        "      else:\n",
        "        sum = 0\n",
        "        for k in range(j+1):\n",
        "          sum += atm[i-1][k]\n",
        "        atm[i][j] = sum\n",
        "\n",
        "  return atm\n",
        "\n",
        "def print_without_none(matrix):\n",
        "\n",
        "  row, col = matrix.shape\n",
        "\n",
        "  for i in range(row):\n",
        "    for j in range(col):\n",
        "\n",
        "      if matrix[i][j] != 0:\n",
        "        print(matrix[i][j], end = \"  \")\n",
        "\n",
        "    print()\n",
        "\n",
        "\n",
        "n = 5\n",
        "returned_value = atm_triangle(n)\n",
        "print_without_none(returned_value)\n",
        "#This should print\n",
        "# 1\n",
        "# 2  2\n",
        "# 3  4  3\n",
        "# 4  7  10  4\n",
        "# 5  11 21  25  5"
      ]
    },
    {
      "cell_type": "markdown",
      "metadata": {
        "id": "hdl0pTqnqBIQ"
      },
      "source": [
        "#Trace The BOT"
      ]
    },
    {
      "cell_type": "code",
      "execution_count": 18,
      "metadata": {
        "colab": {
          "base_uri": "https://localhost:8080/"
        },
        "id": "NtWs-lWUqDjw",
        "outputId": "7210a64f-50ac-463f-f158-03a41f58667b"
      },
      "outputs": [
        {
          "name": "stdout",
          "output_type": "stream",
          "text": [
            "|  .  |  /  |  .  |  .  |  .  |  .  |  .  |\n",
            "-------------------------------------------\n",
            "|  .  |  .  |  .  |  .  |  *  |  .  |  .  |\n",
            "-------------------------------------------\n",
            "|  .  |  .  |  *  |  .  |  .  |  .  |  .  |\n",
            "-------------------------------------------\n",
            "|  .  |  .  |  .  |  -  |  .  |  .  |  .  |\n",
            "-------------------------------------------\n",
            "|  .  |  .  |  .  |  .  |  .  |  .  |  .  |\n",
            "-------------------------------------------\n",
            "|  .  |  .  |  .  |  .  |  .  |  .  |  .  |\n",
            "-------------------------------------------\n",
            "|  .  |  .  |  .  |  .  |  .  |  .  |  .  |\n",
            "-------------------------------------------\n"
          ]
        }
      ],
      "source": [
        "def pos(a, b, n):\n",
        "\n",
        "  x, y = a, b\n",
        "\n",
        "  if n == 1:\n",
        "    x -= 2\n",
        "    y -= 3\n",
        "  elif n == 2:\n",
        "    x -= 2\n",
        "    y -= 1\n",
        "  elif n == 3:\n",
        "    x -= 3\n",
        "    y -= 2\n",
        "  elif n == 4:\n",
        "    x -= 1\n",
        "    y -= 2\n",
        "  elif n == 5:\n",
        "    x -= 2\n",
        "    y += 1\n",
        "  elif n == 6:\n",
        "    x -= 2\n",
        "    y += 3\n",
        "  elif n == 7:\n",
        "    x -= 3\n",
        "    y += 2\n",
        "  elif n == 8:\n",
        "    x -= 1\n",
        "    y += 2\n",
        "  elif n == 9:\n",
        "    x += 2\n",
        "    y -= 3\n",
        "  elif n == 10:\n",
        "    x += 2\n",
        "    y -= 1\n",
        "  elif n == 11:\n",
        "    x += 1\n",
        "    y -= 2\n",
        "  elif n == 12:\n",
        "    x += 3\n",
        "    y -= 2\n",
        "\n",
        "  if 0 <= x <= 6 and 0 <= y <= 6:\n",
        "    return (x, y)\n",
        "  return (a, b)\n",
        "\n",
        "def moving_around(cmds):\n",
        "\n",
        "  grid = np.full((7, 7), '.')\n",
        "\n",
        "  a, b = 3, 3\n",
        "  grid[a][b] = '-'\n",
        "\n",
        "  for i in range(len(cmds)):\n",
        "    a, b = pos(a, b, cmds[i])\n",
        "    if i == len(cmds) - 1:\n",
        "      grid[a][b] = '/'\n",
        "    else:\n",
        "      grid[a][b] = '*'\n",
        "\n",
        "  return grid\n",
        "\n",
        "\n",
        "cmds = np.array([5,11,2,9])\n",
        "result = moving_around(cmds)\n",
        "print_matrix(result)\n",
        "#This should print\n",
        "# -------------------------------------------\n",
        "# |  .  |  /  |  .  |  .  |  .  |  .  |  .  |\n",
        "# -------------------------------------------\n",
        "# |  .  |  .  |  .  |  .  |  *  |  .  |  .  |\n",
        "# -------------------------------------------\n",
        "# |  .  |  .  |  *  |  .  |  .  |  .  |  .  |\n",
        "# -------------------------------------------\n",
        "# |  .  |  .  |  .  |  -  |  .  |  .  |  .  |\n",
        "# -------------------------------------------\n",
        "# |  .  |  .  |  .  |  .  |  .  |  .  |  .  |\n",
        "# -------------------------------------------\n",
        "# |  .  |  .  |  .  |  .  |  .  |  .  |  .  |\n",
        "# -------------------------------------------\n",
        "# |  .  |  .  |  .  |  .  |  .  |  .  |  .  |\n",
        "# -------------------------------------------"
      ]
    }
  ],
  "metadata": {
    "colab": {
      "provenance": []
    },
    "kernelspec": {
      "display_name": "Python 3",
      "name": "python3"
    },
    "language_info": {
      "codemirror_mode": {
        "name": "ipython",
        "version": 3
      },
      "file_extension": ".py",
      "mimetype": "text/x-python",
      "name": "python",
      "nbconvert_exporter": "python",
      "pygments_lexer": "ipython3",
      "version": "3.11.0"
    }
  },
  "nbformat": 4,
  "nbformat_minor": 0
}
