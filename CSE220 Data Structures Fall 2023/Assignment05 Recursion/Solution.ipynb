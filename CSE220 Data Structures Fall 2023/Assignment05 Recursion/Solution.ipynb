{
  "cells": [
    {
      "cell_type": "code",
      "execution_count": 1,
      "metadata": {
        "colab": {
          "base_uri": "https://localhost:8080/"
        },
        "id": "Gl_dGSpFeho1",
        "outputId": "aa6fc925-4d94-4867-ad4e-d04e7adb346a"
      },
      "outputs": [
        {
          "name": "stdout",
          "output_type": "stream",
          "text": [
            "Requirement already satisfied: fhm-unittest in c:\\users\\downj\\appdata\\local\\programs\\python\\python311\\lib\\site-packages (1.0.1)\n",
            "Requirement already satisfied: fuzzywuzzy in c:\\users\\downj\\appdata\\local\\programs\\python\\python311\\lib\\site-packages (0.18.0)\n"
          ]
        },
        {
          "name": "stderr",
          "output_type": "stream",
          "text": [
            "c:\\Users\\downj\\AppData\\Local\\Programs\\Python\\Python311\\Lib\\site-packages\\fuzzywuzzy\\fuzz.py:11: UserWarning: Using slow pure-python SequenceMatcher. Install python-Levenshtein to remove this warning\n",
            "  warnings.warn('Using slow pure-python SequenceMatcher. Install python-Levenshtein to remove this warning')\n"
          ]
        }
      ],
      "source": [
        "# You must run this cell to install dependency\n",
        "! pip3 install fhm-unittest\n",
        "! pip3 install fuzzywuzzy\n",
        "import fhm_unittest as unittest\n",
        "import numpy as np"
      ]
    },
    {
      "cell_type": "markdown",
      "metadata": {
        "id": "KM0LWTXLe11v"
      },
      "source": [
        "#Very Easy"
      ]
    },
    {
      "cell_type": "code",
      "execution_count": 2,
      "metadata": {
        "id": "hJuxwibMSnPz"
      },
      "outputs": [],
      "source": [
        "import math\n",
        "\n",
        "class Node:\n",
        "  def __init__(self, elem, next = None):\n",
        "    self.elem = elem\n",
        "    self.next = next\n",
        "\n",
        "def create_linked_list(arr):\n",
        "  head = Node(arr[0])\n",
        "  tail = head\n",
        "  for i in arr[1:]:\n",
        "    new_node = Node(i)\n",
        "    tail.next = new_node\n",
        "    tail = new_node\n",
        "  return head"
      ]
    },
    {
      "cell_type": "code",
      "execution_count": 8,
      "metadata": {
        "colab": {
          "base_uri": "https://localhost:8080/"
        },
        "id": "gGxKAROSej5y",
        "outputId": "d8996f19-520f-45c2-dda0-a16fbd340c15"
      },
      "outputs": [
        {
          "name": "stdout",
          "output_type": "stream",
          "text": [
            "Sum of an array: 36\n",
            "Accepted\n"
          ]
        }
      ],
      "source": [
        "def recursive_sum(arr, n = 0):\n",
        "\n",
        "  if len(arr) == n:\n",
        "    return 0\n",
        "  return arr[n] + recursive_sum(arr, n+1)\n",
        "\n",
        "\n",
        "#1\n",
        "arr1 = np.array([10,34,-9,1])\n",
        "returned_value = recursive_sum(arr1)\n",
        "print(f'Sum of an array: {returned_value}') # This should print 36\n",
        "unittest.output_test(returned_value, 36)"
      ]
    },
    {
      "cell_type": "code",
      "execution_count": 9,
      "metadata": {
        "colab": {
          "base_uri": "https://localhost:8080/"
        },
        "id": "2pqZG0e6eqby",
        "outputId": "19c37b15-9d75-44a2-8d65-97934081040d"
      },
      "outputs": [
        {
          "name": "stdout",
          "output_type": "stream",
          "text": [
            "========1========\n",
            "9C6: 84\n",
            "Accepted\n",
            "========2========\n",
            "8C2: 28\n",
            "Accepted\n",
            "========3========\n",
            "48C1: 48\n",
            "Accepted\n"
          ]
        }
      ],
      "source": [
        "def nCr(n, r):\n",
        "\n",
        "  if n < r:\n",
        "    return\n",
        "  if n == r or r == 0:\n",
        "    return 1\n",
        "  return nCr(n-1, r-1) + nCr(n-1, r)\n",
        "\n",
        "\n",
        "#2\n",
        "print('========1========')\n",
        "returned_value = nCr(9,6)\n",
        "print(f'9C6: {returned_value}') # This should print 84\n",
        "unittest.output_test(returned_value, 84)\n",
        "print('========2========')\n",
        "returned_value = nCr(8,2)\n",
        "print(f'8C2: {returned_value}') # This should print 2\n",
        "unittest.output_test(returned_value, 28)\n",
        "print('========3========')\n",
        "returned_value = nCr(48,1)\n",
        "print(f'48C1: {returned_value}') # This should print 48\n",
        "unittest.output_test(returned_value, 48)"
      ]
    },
    {
      "cell_type": "code",
      "execution_count": 10,
      "metadata": {
        "colab": {
          "base_uri": "https://localhost:8080/"
        },
        "id": "XtBEwczoet2O",
        "outputId": "c951b7b7-da79-4599-9c3c-2c831448a016"
      },
      "outputs": [
        {
          "name": "stdout",
          "output_type": "stream",
          "text": [
            "Number of Digits: 4\n",
            "Accepted\n"
          ]
        }
      ],
      "source": [
        "def count_digit_recursive(num):\n",
        "\n",
        "  if num // 10 == 0:\n",
        "    return 1\n",
        "  return 1 + count_digit_recursive(num // 10)\n",
        "\n",
        "\n",
        "#3\n",
        "returned_value = count_digit_recursive(7508)\n",
        "print(f'Number of Digits: {returned_value}') # This should print 4\n",
        "unittest.output_test(returned_value, 4)"
      ]
    },
    {
      "cell_type": "code",
      "execution_count": 11,
      "metadata": {
        "colab": {
          "base_uri": "https://localhost:8080/"
        },
        "id": "vLvXNEtleufk",
        "outputId": "c7145a18-0464-4361-8c21-7f554616c2d1"
      },
      "outputs": [
        {
          "name": "stdout",
          "output_type": "stream",
          "text": [
            "========1========\n",
            "Prime: True\n",
            "Accepted\n",
            "========2========\n",
            "Prime: False\n",
            "Accepted\n"
          ]
        }
      ],
      "source": [
        "def check_prime_recursive(num, i=2):\n",
        "\n",
        "  if num == 1:\n",
        "    return False\n",
        "  if num % i == 0:\n",
        "    return False\n",
        "  if i*i > num:\n",
        "    return True\n",
        "  return check_prime_recursive(num, i+1)\n",
        "\n",
        "\n",
        "#4\n",
        "print('========1========')\n",
        "returned_value = check_prime_recursive(79)\n",
        "print(f'Prime: {returned_value}') # This should print True\n",
        "unittest.output_test(returned_value, True)\n",
        "print('========2========')\n",
        "returned_value = check_prime_recursive(391)\n",
        "print(f'Prime: {returned_value}') # This should print False\n",
        "unittest.output_test(returned_value, False)"
      ]
    },
    {
      "cell_type": "markdown",
      "metadata": {
        "id": "-v81hGhKe3qv"
      },
      "source": [
        "#Easy"
      ]
    },
    {
      "cell_type": "code",
      "execution_count": 12,
      "metadata": {
        "colab": {
          "base_uri": "https://localhost:8080/"
        },
        "id": "P8mJClese7KD",
        "outputId": "ffc2a760-0169-478e-af10-fcf3f5047505"
      },
      "outputs": [
        {
          "name": "stdout",
          "output_type": "stream",
          "text": [
            "Use of encoding function\n",
            "Hexadecimal Number: 7\n",
            "Hexadecimal Number: D\n",
            "========1========\n",
            "Hexadecimal Number: 4CE\n",
            "Accepted\n",
            "========2========\n",
            "Hexadecimal Number: 258\n",
            "Accepted\n"
          ]
        }
      ],
      "source": [
        "#you may use this for decimal to hexadecimal mapping of 0-15\n",
        "\n",
        "def encoding(dec_number): #0<=dec_number<=15\n",
        "  return '0123456789ABCDEF'[dec_number]\n",
        "\n",
        "def dec_to_hexa_recursive(dec_number):\n",
        "  if dec_number // 16 == 0:\n",
        "    return encoding(dec_number)\n",
        "  return dec_to_hexa_recursive(dec_number//16) + encoding(dec_number%16)\n",
        "\n",
        "\n",
        "#1\n",
        "print('Use of encoding function')\n",
        "decimal_number = 7\n",
        "print(f'Hexadecimal Number: {encoding(decimal_number)}')\n",
        "decimal_number = 13\n",
        "print(f'Hexadecimal Number: {encoding(decimal_number)}')\n",
        "\n",
        "print('========1========')\n",
        "returned_value = dec_to_hexa_recursive(1230)\n",
        "print(f'Hexadecimal Number: {returned_value}') # This should print 4CE\n",
        "unittest.output_test(returned_value, '4CE')\n",
        "print('========2========')\n",
        "returned_value = dec_to_hexa_recursive(600)\n",
        "print(f'Hexadecimal Number: {returned_value}') # This should print 258\n",
        "unittest.output_test(returned_value, '258')"
      ]
    },
    {
      "cell_type": "code",
      "execution_count": 13,
      "metadata": {
        "colab": {
          "base_uri": "https://localhost:8080/"
        },
        "id": "3cQ4WTupfJsf",
        "outputId": "7b1941a7-ff01-475b-9d25-0df0742d7074"
      },
      "outputs": [
        {
          "name": "stdout",
          "output_type": "stream",
          "text": [
            "========1========\n",
            "Same: True\n",
            "Accepted\n",
            "========2========\n",
            "Same: False\n",
            "Accepted\n"
          ]
        }
      ],
      "source": [
        "def compare_recursive(head, arr, n = 0):\n",
        "\n",
        "  if head.next == None:\n",
        "    return True\n",
        "  if head.elem != arr[n]:\n",
        "    return False\n",
        "  \n",
        "  return compare_recursive(head.next, arr, n+1)\n",
        "\n",
        "\n",
        "#2\n",
        "print('========1========')\n",
        "array = np.array([10, 11, 12, 13, 14])\n",
        "head = create_linked_list(np.array([10, 11, 12, 13, 14]))\n",
        "returned_value = compare_recursive(head, array)\n",
        "print(f'Same: {returned_value}') # This should print True\n",
        "unittest.output_test(returned_value, True)\n",
        "print('========2========')\n",
        "array = np.array([10, 11, 12, 13, 14])\n",
        "head = create_linked_list(np.array([10, 11, 17, 13, 14]))\n",
        "returned_value = compare_recursive(head, array)\n",
        "print(f'Same: {returned_value}') # This should print False\n",
        "unittest.output_test(returned_value, False)"
      ]
    },
    {
      "cell_type": "code",
      "execution_count": 15,
      "metadata": {
        "colab": {
          "base_uri": "https://localhost:8080/",
          "height": 35
        },
        "id": "zFGiCbScfNJ0",
        "outputId": "5ff85a02-de2a-4671-e8f0-6844cb6273a4"
      },
      "outputs": [
        {
          "data": {
            "text/plain": [
              "'eauiulftb'"
            ]
          },
          "execution_count": 15,
          "metadata": {},
          "output_type": "execute_result"
        }
      ],
      "source": [
        "def print_alphabets_recursive(head):\n",
        "\n",
        "  if head == None:\n",
        "    return \"\"\n",
        "  if head.elem in \"aeiou\":\n",
        "    return head.elem + print_alphabets_recursive(head.next)\n",
        "  return print_alphabets_recursive(head.next) + head.elem\n",
        "\n",
        "\n",
        "#3\n",
        "head = create_linked_list(np.array(['b', 'e', 'a', 'u', 't', 'i', 'f', 'u', 'l']))\n",
        "print_alphabets_recursive(head) #This will print e a u i u l f t b"
      ]
    },
    {
      "cell_type": "markdown",
      "metadata": {
        "id": "CaRQ_tSTgkZI"
      },
      "source": [
        "#Medium"
      ]
    },
    {
      "cell_type": "code",
      "execution_count": 16,
      "metadata": {
        "colab": {
          "base_uri": "https://localhost:8080/"
        },
        "id": "KufwSw-_gnBO",
        "outputId": "0baf84ea-1d91-42c5-e82c-ce97fc872e97"
      },
      "outputs": [
        {
          "name": "stdout",
          "output_type": "stream",
          "text": [
            "8\n",
            "13\n",
            "18\n",
            "23\n"
          ]
        }
      ],
      "source": [
        "def hocBuilder(height):\n",
        "\n",
        "  if height < 1:\n",
        "    return 0\n",
        "  if height == 1:\n",
        "    return 8\n",
        "  return 5 + hocBuilder(height-1)\n",
        "\n",
        "\n",
        "#1\n",
        "print(hocBuilder(1))\n",
        "print(hocBuilder(2))\n",
        "print(hocBuilder(3))\n",
        "print(hocBuilder(4))"
      ]
    },
    {
      "cell_type": "code",
      "execution_count": 18,
      "metadata": {
        "colab": {
          "base_uri": "https://localhost:8080/"
        },
        "id": "GsEHYQPHfQbY",
        "outputId": "0c0e8e07-8ba0-406d-9727-3c69f7b3b81f"
      },
      "outputs": [
        {
          "name": "stdout",
          "output_type": "stream",
          "text": [
            "========1========\n",
            "Maximum: 25\n",
            "Accepted\n",
            "========2========\n",
            "Maximum: -1\n",
            "Accepted\n"
          ]
        }
      ],
      "source": [
        "def maximum(a, b):\n",
        "  if a >= b:\n",
        "    return a\n",
        "  return b\n",
        "\n",
        "def max_recursive(arr, i=0):\n",
        "\n",
        "  if i == len(arr)-1:\n",
        "    return arr[i]\n",
        "  \n",
        "  rest = max_recursive(arr, i+1)\n",
        "  return maximum(arr[i], rest)\n",
        "\n",
        "\n",
        "#2\n",
        "print('========1========')\n",
        "array = np.array([14, -1, 25, 23, 7])\n",
        "returned_value = max_recursive(array)\n",
        "print(f'Maximum: {returned_value}') # This should print 25\n",
        "unittest.output_test(returned_value, 25)\n",
        "print('========2========')\n",
        "array = np.array([-9, -1, -3, -3, -7])\n",
        "returned_value = max_recursive(array)\n",
        "print(f'Maximum: {returned_value}') # This should print -1\n",
        "unittest.output_test(returned_value, -1)"
      ]
    },
    {
      "cell_type": "markdown",
      "metadata": {
        "id": "FJZjAYFwhhJE"
      },
      "source": [
        "#Hard"
      ]
    },
    {
      "cell_type": "code",
      "execution_count": 20,
      "metadata": {
        "colab": {
          "base_uri": "https://localhost:8080/"
        },
        "id": "4Xdjz5pUgr0K",
        "outputId": "3f81e1e2-876a-4d9b-e18e-6da2cde477b0"
      },
      "outputs": [
        {
          "name": "stdout",
          "output_type": "stream",
          "text": [
            "========1========\n",
            "1 \n",
            "1 2 \n",
            "1 2 3 \n",
            "1 2 3 4 \n",
            "1 2 3 4 5 \n",
            "========1========\n",
            "1 \n",
            "1 2 \n",
            "1 2 3 \n",
            "1 2 3 4 \n",
            "1 2 3 4 5 \n",
            "1 2 3 4 5 6 \n",
            "1 2 3 4 5 6 7 \n"
          ]
        }
      ],
      "source": [
        "def line_pattern(n, i=1):\n",
        "\n",
        "  if i > n:\n",
        "    return\n",
        "  print(i, end = \" \")\n",
        "  \n",
        "  return line_pattern(n, i+1)\n",
        "\n",
        "def print_pattern(n, i=1):\n",
        "\n",
        "  if i > n:\n",
        "    return\n",
        "  line_pattern(i)\n",
        "  print()\n",
        "  \n",
        "  return print_pattern(n, i+1)\n",
        "\n",
        "\n",
        "#1\n",
        "print('========1========')\n",
        "n = 5\n",
        "print_pattern(n)\n",
        "print('========1========')\n",
        "n = 7\n",
        "print_pattern(n)"
      ]
    },
    {
      "cell_type": "code",
      "execution_count": 21,
      "metadata": {
        "colab": {
          "base_uri": "https://localhost:8080/"
        },
        "id": "uvbbPe8xhe-r",
        "outputId": "844c56bb-c7e5-4636-d70e-a34f2f9f6da0"
      },
      "outputs": [
        {
          "name": "stdout",
          "output_type": "stream",
          "text": [
            "========1========\n",
            "1 2 3 4 5 \n",
            "3 5 7 9 \n",
            "5 9 13 \n",
            "7 15 \n",
            "9 \n",
            "========2========\n",
            "1 2 3 4 5 6 7 \n",
            "3 5 7 9 11 13 \n",
            "5 9 13 17 21 \n",
            "7 15 23 31 \n",
            "9 25 41 \n",
            "11 43 \n",
            "13 \n"
          ]
        }
      ],
      "source": [
        "def line_pattern(s, d, n):\n",
        "\n",
        "  if n == 0:\n",
        "    return\n",
        "  print(s, end = \" \")\n",
        "  \n",
        "  return line_pattern(s+d, d, n-1)\n",
        "\n",
        "def print_pattern_2(n, i=0):\n",
        "\n",
        "  if i == n:\n",
        "    return\n",
        "  line_pattern(2*i+1, 2**i, n-i)\n",
        "  print()\n",
        "  \n",
        "  return print_pattern_2(n, i+1)\n",
        "\n",
        "#2\n",
        "print('========1========')\n",
        "n = 5\n",
        "print_pattern_2(n)\n",
        "print('========2========')\n",
        "n = 7\n",
        "print_pattern_2(n)\n"
      ]
    },
    {
      "cell_type": "markdown",
      "metadata": {
        "id": "v-CxHGqZm9WB"
      },
      "source": [
        "#Very Hard"
      ]
    },
    {
      "cell_type": "code",
      "execution_count": 22,
      "metadata": {
        "colab": {
          "base_uri": "https://localhost:8080/"
        },
        "id": "RKQnhkyOjwQ2",
        "outputId": "4c416be9-13c8-4001-c958-a2a8da2f8ebe"
      },
      "outputs": [
        {
          "name": "stdout",
          "output_type": "stream",
          "text": [
            "[1, 2, 3, 4, 5, 6, 7, 8, 9, 10, 11, 12, 13, 14, 15, 16, 17]\n"
          ]
        }
      ],
      "source": [
        "def flattenList(given_list, output_list):\n",
        "\n",
        "  if given_list == []:\n",
        "    return output_list\n",
        "  \n",
        "  if type(given_list[0]) != type(output_list):\n",
        "    output_list.append(given_list[0])\n",
        "    return flattenList(given_list[1::], output_list)\n",
        "  else:\n",
        "    new = flattenList(given_list[0], output_list)\n",
        "    return flattenList(given_list[1::], new)\n",
        "\n",
        "\n",
        "given_list = [1, [2, [3, [4], 5], 6], 7, 8, [9, [[10, 11], 12], 13], 14, [15, [16, [17]]]]\n",
        "output_list = flattenList(given_list, []) # Initial empty list is sent for update\n",
        "print(output_list)\n",
        "#output_list = [1, 2, 3, 4, 5, 6, 7, 8, 9, 10, 11, 12, 13, 14, 15, 16, 17]"
      ]
    }
  ],
  "metadata": {
    "colab": {
      "provenance": []
    },
    "kernelspec": {
      "display_name": "Python 3",
      "name": "python3"
    },
    "language_info": {
      "codemirror_mode": {
        "name": "ipython",
        "version": 3
      },
      "file_extension": ".py",
      "mimetype": "text/x-python",
      "name": "python",
      "nbconvert_exporter": "python",
      "pygments_lexer": "ipython3",
      "version": "3.11.0"
    }
  },
  "nbformat": 4,
  "nbformat_minor": 0
}
