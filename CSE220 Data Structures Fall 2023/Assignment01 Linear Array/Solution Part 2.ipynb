{
  "cells": [
    {
      "cell_type": "code",
      "execution_count": 1,
      "metadata": {
        "id": "CSBAFgFBuZz6"
      },
      "outputs": [],
      "source": [
        "import numpy as np"
      ]
    },
    {
      "cell_type": "code",
      "execution_count": 3,
      "metadata": {
        "colab": {
          "base_uri": "https://localhost:8080/"
        },
        "id": "pEdutf3ABW5P",
        "outputId": "d8c9af38-d72c-4c10-d7cc-f9d169626a9a"
      },
      "outputs": [
        {
          "name": "stdout",
          "output_type": "stream",
          "text": [
            "[25 -5]\n"
          ]
        }
      ],
      "source": [
        "def meancalc(numbers):\n",
        "\n",
        "  sum = 0\n",
        "  totalnum = 0\n",
        "\n",
        "  for i in range(len(numbers)):\n",
        "    sum += numbers[i]\n",
        "    totalnum += 1\n",
        "  mean = sum/totalnum\n",
        "\n",
        "  return mean\n",
        "\n",
        "def deviationcalc(numbers, mean):\n",
        "\n",
        "  n = 0\n",
        "  for i in range(len(numbers)):\n",
        "    n += 1\n",
        "\n",
        "  dif = 0\n",
        "  for i in range(len(numbers)):\n",
        "    dif += (mean-(numbers[i]))**2\n",
        "  dev = ((dif)/(n - 1))**0.5\n",
        "\n",
        "  return dev\n",
        "\n",
        "def arrayfinder(numbers, mean, dev):\n",
        "  count = 0\n",
        "  for i in range(len(numbers)):\n",
        "    if numbers[i]- mean > 1.5*dev or mean - numbers[i] > 1.5*dev:\n",
        "      count += 1\n",
        "  newarr = np.array([0]*count)\n",
        "\n",
        "  n = 0\n",
        "  for i in range(len(numbers)):\n",
        "    if numbers[i]- mean > 1.5*dev or mean - numbers[i] > 1.5*dev:\n",
        "      newarr[n] += numbers[i]\n",
        "      n += 1\n",
        "\n",
        "  return newarr\n",
        "\n",
        "\n",
        "givenarr = np.array([10, 8, 13, 9, 14, 25, -5, 20, 7, 7, 4])\n",
        "mean = meancalc(givenarr)\n",
        "deviation = deviationcalc(givenarr, mean)\n",
        "newarr = arrayfinder(givenarr, mean, deviation)\n",
        "\n",
        "print(newarr)"
      ]
    }
  ],
  "metadata": {
    "colab": {
      "provenance": []
    },
    "kernelspec": {
      "display_name": "Python 3",
      "name": "python3"
    },
    "language_info": {
      "codemirror_mode": {
        "name": "ipython",
        "version": 3
      },
      "file_extension": ".py",
      "mimetype": "text/x-python",
      "name": "python",
      "nbconvert_exporter": "python",
      "pygments_lexer": "ipython3",
      "version": "3.11.0"
    }
  },
  "nbformat": 4,
  "nbformat_minor": 0
}
