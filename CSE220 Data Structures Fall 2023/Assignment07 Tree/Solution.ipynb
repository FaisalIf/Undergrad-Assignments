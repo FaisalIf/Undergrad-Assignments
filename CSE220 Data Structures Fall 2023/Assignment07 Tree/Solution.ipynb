{
  "cells": [
    {
      "cell_type": "code",
      "execution_count": 1,
      "metadata": {
        "id": "D6vC520OPeTa"
      },
      "outputs": [],
      "source": [
        "class BTNode:\n",
        "  def __init__(self, elem):\n",
        "    self.elem = elem\n",
        "    self.right = None\n",
        "    self.left = None"
      ]
    },
    {
      "cell_type": "code",
      "execution_count": 2,
      "metadata": {
        "id": "UDTKlm4-PfNM"
      },
      "outputs": [],
      "source": [
        "def inorder(root):\n",
        "  if root == None:\n",
        "    return\n",
        "\n",
        "  inorder(root.left)\n",
        "  print(root.elem, end = ' ')\n",
        "  inorder(root.right)"
      ]
    },
    {
      "cell_type": "code",
      "execution_count": 3,
      "metadata": {
        "colab": {
          "base_uri": "https://localhost:8080/"
        },
        "id": "Rtc22SPzPgzM",
        "outputId": "f5bf3938-df2f-4dc1-85ff-22755cf28a45"
      },
      "outputs": [
        {
          "name": "stdout",
          "output_type": "stream",
          "text": [
            "H D B E A I F J C G k "
          ]
        }
      ],
      "source": [
        "def tree_construction(arr, i = 1):\n",
        "  if i>=len(arr) or arr[i] == None:\n",
        "    return None\n",
        "  p = BTNode(arr[i])\n",
        "  p.left = tree_construction(arr, 2*i)\n",
        "  p.right = tree_construction(arr, 2*i+1)\n",
        "  return p\n",
        "\n",
        "\n",
        "root2 = tree_construction([None, 'A', 'B', 'C', 'D', 'E', 'F', 'G', 'H', None, None, None, 'I', 'J', None, 'k'])\n",
        "inorder(root2)"
      ]
    },
    {
      "cell_type": "markdown",
      "metadata": {
        "id": "S2nNCJNhPqGq"
      },
      "source": [
        "Task 1"
      ]
    },
    {
      "cell_type": "code",
      "execution_count": 4,
      "metadata": {
        "colab": {
          "base_uri": "https://localhost:8080/"
        },
        "id": "zbBHU3FoPieb",
        "outputId": "10482839-badd-4712-a702-3e4505d95e5f"
      },
      "outputs": [
        {
          "name": "stdout",
          "output_type": "stream",
          "text": [
            "Given Tree Inorder Traversal:  40 20 60 10 30 \n",
            "Mirrored Tree Inorder Traversal:  30 10 60 20 40 "
          ]
        }
      ],
      "source": [
        "def convert_mirror(root):\n",
        "\n",
        "  if root == None:\n",
        "    return\n",
        "  \n",
        "  left = convert_mirror(root.left)\n",
        "  right = convert_mirror(root.right)\n",
        "  root.left, root.right = right, left\n",
        "  \n",
        "  return root\n",
        "\n",
        "#DRIVER CODE\n",
        "root = BTNode(10)\n",
        "n1 = BTNode(20)\n",
        "n2 = BTNode(30)\n",
        "n3 = BTNode(40)\n",
        "n4 = BTNode(60)\n",
        "\n",
        "root.left = n1\n",
        "root.right = n2\n",
        "\n",
        "n1.left = n3\n",
        "n1.right = n4\n",
        "\n",
        "print('Given Tree Inorder Traversal: ', end = ' ')\n",
        "inorder(root) #Given Tree Inorder Traversal:  40 20 60 10 30\n",
        "print()\n",
        "\n",
        "root2 = convert_mirror(root)\n",
        "print('Mirrored Tree Inorder Traversal: ', end = ' ')\n",
        "inorder(root2) #Mirrored Tree Inorder Traversal:  30 10 60 20 40"
      ]
    },
    {
      "cell_type": "markdown",
      "metadata": {
        "id": "c-TBf3m0PrtK"
      },
      "source": [
        "Task 2"
      ]
    },
    {
      "cell_type": "code",
      "execution_count": 5,
      "metadata": {
        "colab": {
          "base_uri": "https://localhost:8080/"
        },
        "id": "lsuxinlBPmji",
        "outputId": "ee50b4f2-0ef9-4a1c-dc3b-5c7443907ed4"
      },
      "outputs": [
        {
          "name": "stdout",
          "output_type": "stream",
          "text": [
            "Given Tree Inorder Traversal:  3 9 -5 4 2 7 \n",
            "Level Wise Smallest Value:  {0: 4, 1: 2, 2: -5}\n"
          ]
        }
      ],
      "source": [
        "def min(a, b):\n",
        "  return a if a <= b else b\n",
        "\n",
        "def smallest_level(root, l=0, di = {}):\n",
        "\n",
        "  if root == None:\n",
        "    return\n",
        "  \n",
        "  if di.get(l) == None:\n",
        "    di[l] = root.elem\n",
        "\n",
        "  else:\n",
        "    di[l] = min(di[l], root.elem)\n",
        "  left = smallest_level(root.left, l+1)\n",
        "  right = smallest_level(root.right, l+1)\n",
        "  \n",
        "  return di\n",
        "\n",
        "#DRIVER CODE\n",
        "root = tree_construction([None, 4,9,2,3,-5,None,7])\n",
        "print('Given Tree Inorder Traversal: ', end = ' ')\n",
        "inorder(root) #Given Tree Inorder Traversal:  3 9 5 4 2 7\n",
        "print()\n",
        "print('Level Wise Smallest Value: ', end = ' ')\n",
        "print(smallest_level(root)) #Level Wise Smallest Value:  {0: 4, 1: 2, 2: -5}"
      ]
    },
    {
      "cell_type": "markdown",
      "metadata": {
        "id": "7r3lH3aWPz2d"
      },
      "source": [
        "Task 3"
      ]
    },
    {
      "cell_type": "code",
      "execution_count": 6,
      "metadata": {
        "colab": {
          "base_uri": "https://localhost:8080/"
        },
        "id": "zFwP64v4Pu6d",
        "outputId": "4dca4758-0955-4722-b094-4af31f09e9ba"
      },
      "outputs": [
        {
          "name": "stdout",
          "output_type": "stream",
          "text": [
            "Given Tree Inorder Traversal:  4 8 10 12 14 20 22 \n",
            "Inorder predecessor of node 20: 14\n"
          ]
        }
      ],
      "source": [
        "def maximum(root):\n",
        "  \n",
        "  if root.right == None:\n",
        "    return root\n",
        "  return maximum(root.right)\n",
        "\n",
        "def inorder_predecessor(root, x):\n",
        "  return maximum(x.left)\n",
        "\n",
        "#DRIVER CODE\n",
        "root = BTNode(20)\n",
        "n1 = BTNode(8)\n",
        "n2 = BTNode(22)\n",
        "n3 = BTNode(4)\n",
        "n4 = BTNode(12)\n",
        "n5 = BTNode(10)\n",
        "n6 = BTNode(14)\n",
        "\n",
        "root.left = n1\n",
        "root.right = n2\n",
        "\n",
        "n1.left = n3\n",
        "n1.right = n4\n",
        "\n",
        "n4.left = n5\n",
        "n4.right = n6\n",
        "\n",
        "print('Given Tree Inorder Traversal: ', end = ' ')\n",
        "inorder(root) #Given Tree Inorder Traversal:  4 8 10 12 14 20 22\n",
        "print()\n",
        "\n",
        "x = root\n",
        "print(f'Inorder predecessor of node {x.elem}: {inorder_predecessor(root, x).elem}') #Inorder predecessor of node 20: 14"
      ]
    },
    {
      "cell_type": "markdown",
      "metadata": {
        "id": "t3IGW4OaP8Vy"
      },
      "source": [
        "Task 4"
      ]
    },
    {
      "cell_type": "code",
      "execution_count": 8,
      "metadata": {
        "colab": {
          "base_uri": "https://localhost:8080/"
        },
        "id": "1_tpDp5kJz4P",
        "outputId": "e4fad483-6808-4e40-8d81-15e70d1261c0"
      },
      "outputs": [
        {
          "name": "stdout",
          "output_type": "stream",
          "text": [
            "LCA(6,12) = 10\n",
            "LCA(20,6) = 15\n",
            "LCA(18,22) = 20\n",
            "LCA(20,25) = 25\n",
            "LCA(10,12) = 10\n"
          ]
        }
      ],
      "source": [
        "def LCA(root, x, y):\n",
        "\n",
        "  if root.elem == x or root.elem == y:\n",
        "    return root.elem\n",
        "  \n",
        "  if x < root.elem and y < root.elem:\n",
        "    return LCA(root.left, x, y)\n",
        "  elif x > root.elem and y > root.elem:\n",
        "    return LCA(root.right, x, y)\n",
        "  else:\n",
        "    return root.elem\n",
        "\n",
        "def print_val(root, x, y):\n",
        "  print(f\"LCA({x},{y}) = {LCA(root, x, y)}\")\n",
        "\n",
        "#DRIVER CODE\n",
        "root = tree_construction([None, 15, 10, 25, 8, 12, 20, 30, 8, 9, None, None, 18, 22, None, None])\n",
        "\n",
        "x = 6\n",
        "y = 12\n",
        "print_val(root, x, y)\n",
        "\n",
        "x = 20\n",
        "y = 6\n",
        "print_val(root, x, y)\n",
        "\n",
        "x = 18\n",
        "y = 22\n",
        "print_val(root, x, y)\n",
        "\n",
        "x = 20\n",
        "y = 25\n",
        "print_val(root, x, y)\n",
        "\n",
        "x = 10\n",
        "y = 12\n",
        "print_val(root, x, y)"
      ]
    },
    {
      "cell_type": "markdown",
      "metadata": {
        "id": "T3Pimbw_PLHY"
      },
      "source": [
        "BONUS TASK 1"
      ]
    },
    {
      "cell_type": "code",
      "execution_count": 9,
      "metadata": {
        "colab": {
          "base_uri": "https://localhost:8080/"
        },
        "id": "m4E9_E8PThk6",
        "outputId": "c7bec8ed-c392-41a2-851f-c895dcb80b4c"
      },
      "outputs": [
        {
          "name": "stdout",
          "output_type": "stream",
          "text": [
            "True\n"
          ]
        }
      ],
      "source": [
        "def sum(root):\n",
        "  if root == None:\n",
        "    return 0\n",
        "  return root.elem + sum(root.left) + sum(root.right)\n",
        "\n",
        "def sumTree(root):\n",
        "  if root.elem != sum(root.left) + sum(root.right):\n",
        "    return False\n",
        "  return True\n",
        "\n",
        "root = tree_construction([None, 26, 10, 3, 4, 6, None, 3])\n",
        "print(sumTree(root))"
      ]
    },
    {
      "cell_type": "markdown",
      "metadata": {
        "id": "SBD-0xoZP_ni"
      },
      "source": [
        "Bonus Task 2"
      ]
    },
    {
      "cell_type": "code",
      "execution_count": 10,
      "metadata": {
        "colab": {
          "base_uri": "https://localhost:8080/"
        },
        "id": "HEZbZjLmdeOk",
        "outputId": "621ce196-0c08-45bd-9618-991f29ea9fb7"
      },
      "outputs": [
        {
          "name": "stdout",
          "output_type": "stream",
          "text": [
            "4\n"
          ]
        }
      ],
      "source": [
        "def sum(root, l = 0, oddSum = 0, evenSum = 0):\n",
        "\n",
        "  if root == None:\n",
        "    return oddSum, evenSum\n",
        "  \n",
        "  if l % 2 == 1:\n",
        "    oddSum += root.elem\n",
        "  else:\n",
        "    evenSum += root.elem\n",
        "  oddSum, evenSum = sum(root.left, l+1, oddSum, evenSum)\n",
        "  oddSum, evenSum = sum(root.right, l+1, oddSum, evenSum)\n",
        "\n",
        "  return oddSum, evenSum\n",
        "\n",
        "def odd_even_diff(root, l = 0, oddSum = 0, evenSum = 0):\n",
        "    \n",
        "    oddSum, evenSum = sum(root, l, oddSum, evenSum)\n",
        "    return oddSum-evenSum\n",
        "\n",
        "#DRIVER CODE\n",
        "root = BTNode(1)\n",
        "n2 = BTNode(2)\n",
        "n3 = BTNode(3)\n",
        "n4 = BTNode(4)\n",
        "n5 = BTNode(5)\n",
        "n6 = BTNode(6)\n",
        "n7 = BTNode(7)\n",
        "n8 = BTNode(8)\n",
        "root.left = n2\n",
        "root.right = n3\n",
        "n2.left = n4\n",
        "n3.left = n5\n",
        "n3.right = n6\n",
        "n5.left = n7\n",
        "n5.right = n8\n",
        "print(odd_even_diff(root))"
      ]
    }
  ],
  "metadata": {
    "colab": {
      "provenance": []
    },
    "kernelspec": {
      "display_name": "Python 3",
      "name": "python3"
    },
    "language_info": {
      "codemirror_mode": {
        "name": "ipython",
        "version": 3
      },
      "file_extension": ".py",
      "mimetype": "text/x-python",
      "name": "python",
      "nbconvert_exporter": "python",
      "pygments_lexer": "ipython3",
      "version": "3.11.0"
    }
  },
  "nbformat": 4,
  "nbformat_minor": 0
}
